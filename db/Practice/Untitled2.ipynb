{
 "cells": [
  {
   "cell_type": "code",
   "execution_count": 9,
   "id": "c5700e00-663e-4dd4-8176-e09cf9970540",
   "metadata": {},
   "outputs": [
    {
     "name": "stdout",
     "output_type": "stream",
     "text": [
      "    Name  Age  Salary\n",
      "0   John   21   30000\n",
      "1   Lisa   22  320000\n",
      "2  Harry   20  230000\n"
     ]
    }
   ],
   "source": [
    "import pandas as pd\n",
    "data={\"Name\":[\"John\",\"Lisa\",\"Harry\"],\n",
    "     \"Age\":[21,22,20],\n",
    "\"Salary\":[30000,320000,230000]}\n",
    "df=pd.DataFrame(data)\n",
    "print(df)\n",
    "\n",
    "data=pd.read_csv(\"C:/Users/raina/OneDrive/Desktop/Online_food_delivery/online_food_delivery_dataset/menu_items.csv\")\n",
    "# print(data.head(5))"
   ]
  },
  {
   "cell_type": "code",
   "execution_count": 29,
   "id": "3f0577bf-369a-457c-a7f0-54472a18102a",
   "metadata": {},
   "outputs": [
    {
     "name": "stdout",
     "output_type": "stream",
     "text": [
      "   item_id  restaurant_id        item_name   price\n",
      "0        1             49         Rasgulla  347.79\n",
      "1        2              7      Gulab Jamun  205.70\n",
      "2        3              8    Chole Bhature  313.79\n",
      "3        4             10  Chicken Biryani  106.31\n",
      "4        5             25     Samosa Chaat  297.43\n",
      "5        6             11      Gulab Jamun  565.55\n",
      "6        7             47      Gulab Jamun  178.71\n",
      "7        8             11       Fish Curry  597.90\n",
      "8        9             30       Fish Curry  537.12\n",
      "9       10             32   Butter Chicken  126.83\n"
     ]
    }
   ],
   "source": [
    "data=pd.read_csv(\"C:/Users/raina/OneDrive/Desktop/Online_food_delivery/online_food_delivery_dataset/menu_items.csv\")\n",
    "print(data.head(10))"
   ]
  },
  {
   "cell_type": "code",
   "execution_count": 30,
   "id": "b9d9189d-adcf-42c6-9ce8-6daceb105ac3",
   "metadata": {},
   "outputs": [
    {
     "name": "stdout",
     "output_type": "stream",
     "text": [
      "<class 'pandas.core.frame.DataFrame'>\n",
      "RangeIndex: 250 entries, 0 to 249\n",
      "Data columns (total 4 columns):\n",
      " #   Column         Non-Null Count  Dtype  \n",
      "---  ------         --------------  -----  \n",
      " 0   item_id        250 non-null    int64  \n",
      " 1   restaurant_id  250 non-null    int64  \n",
      " 2   item_name      250 non-null    object \n",
      " 3   price          250 non-null    float64\n",
      "dtypes: float64(1), int64(2), object(1)\n",
      "memory usage: 7.9+ KB\n"
     ]
    }
   ],
   "source": [
    "data.info()"
   ]
  },
  {
   "cell_type": "code",
   "execution_count": 31,
   "id": "3421e2d6-3e23-44ca-8a5a-2ef0b3c820d3",
   "metadata": {},
   "outputs": [
    {
     "name": "stdout",
     "output_type": "stream",
     "text": [
      "          item_id  restaurant_id       price\n",
      "count  250.000000     250.000000  250.000000\n",
      "mean   125.500000      27.832000  340.543600\n",
      "std     72.312977      14.712089  151.354702\n",
      "min      1.000000       1.000000   82.690000\n",
      "25%     63.250000      15.250000  207.622500\n",
      "50%    125.500000      27.500000  344.725000\n",
      "75%    187.750000      41.750000  475.492500\n",
      "max    250.000000      50.000000  598.530000\n"
     ]
    }
   ],
   "source": [
    "print(data.describe())"
   ]
  },
  {
   "cell_type": "code",
   "execution_count": 35,
   "id": "98a7f956-333d-42ca-892f-3f222ca6fb8d",
   "metadata": {},
   "outputs": [
    {
     "name": "stdout",
     "output_type": "stream",
     "text": [
      "item_id          0\n",
      "restaurant_id    0\n",
      "item_name        0\n",
      "price            0\n",
      "dtype: int64\n"
     ]
    }
   ],
   "source": [
    "print(data.isnull().sum())"
   ]
  },
  {
   "cell_type": "code",
   "execution_count": 40,
   "id": "9fbd3082-e611-49db-ab00-2a1d62c63c34",
   "metadata": {},
   "outputs": [
    {
     "name": "stdout",
     "output_type": "stream",
     "text": [
      "1\n"
     ]
    }
   ],
   "source": [
    "print(data[\"price\"].duplicated().sum())"
   ]
  }
 ],
 "metadata": {
  "kernelspec": {
   "display_name": "Python (base)",
   "language": "python",
   "name": "base"
  },
  "language_info": {
   "codemirror_mode": {
    "name": "ipython",
    "version": 3
   },
   "file_extension": ".py",
   "mimetype": "text/x-python",
   "name": "python",
   "nbconvert_exporter": "python",
   "pygments_lexer": "ipython3",
   "version": "3.13.5"
  }
 },
 "nbformat": 4,
 "nbformat_minor": 5
}
