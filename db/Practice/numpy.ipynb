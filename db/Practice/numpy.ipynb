{
 "cells": [
  {
   "cell_type": "code",
   "execution_count": 2,
   "id": "b543e481-6ddf-4f69-81bd-61ea8da69600",
   "metadata": {},
   "outputs": [
    {
     "name": "stdout",
     "output_type": "stream",
     "text": [
      "[2, 3, 54, 1, 1, 2, 1, 100]\n"
     ]
    }
   ],
   "source": [
    "# Basic Python code\n",
    "\n",
    "l1=[2,3,54,1]\n",
    "l2=[1,2,1,100]\n",
    "print(l1+l2)"
   ]
  },
  {
   "cell_type": "code",
   "execution_count": 18,
   "id": "85ddf35c-695c-4b00-a67a-2dfabccbbd94",
   "metadata": {},
   "outputs": [
    {
     "name": "stdout",
     "output_type": "stream",
     "text": [
      "[[44 33  9]\n",
      " [ 1  3  2]]\n"
     ]
    }
   ],
   "source": [
    "# import numpy as np\n",
    "c=np.array([[23,44,33,9],[2,1,3,2]])\n",
    "print(c[0:2, 1:4])\n",
    "\n",
    "# print(c[1:3,0:2])"
   ]
  },
  {
   "cell_type": "code",
   "execution_count": 15,
   "id": "df822a36-cb6b-48c3-a3bc-51891a6db8e3",
   "metadata": {},
   "outputs": [
    {
     "name": "stdout",
     "output_type": "stream",
     "text": [
      "[11 22 33 44]\n",
      "4\n",
      "int64\n",
      "[3.46410162 4.89897949 6.         6.92820323]\n",
      "[23 46 69 92]\n",
      "[11 22 33 44 12 24 36 48]\n"
     ]
    }
   ],
   "source": [
    "\n",
    "# Numpy basics in \n",
    "\n",
    "\n",
    "import numpy as np\n",
    "s=np.array([11,22,33,44])\n",
    "r=np.array([12,24,36,48])\n",
    "print(s)\n",
    "print(np.size(s))\n",
    "print(s.dtype)\n",
    "print(np.sqrt(r))\n",
    "print(np.add(s,r)) \n",
    "# print(s+r) or of above\n",
    "\n",
    "print(np.concatenate([s,r])) \n",
    "# square bracker or 2 brackets in concatenate\n"
   ]
  },
  {
   "cell_type": "code",
   "execution_count": 6,
   "id": "a94c833a-08ba-4925-81c9-2085b3140b40",
   "metadata": {},
   "outputs": [
    {
     "name": "stdout",
     "output_type": "stream",
     "text": [
      "[[ 2  4  6  8]\n",
      " [ 3  9 12 15]\n",
      " [ 1  2  3  4]\n",
      " [ 4  8 12 16]]\n",
      "[[ 2  4  6  8  1  2  3  4]\n",
      " [ 3  9 12 15  4  8 12 16]]\n",
      "Now horizontal stack method\n",
      "[[ 2  4  6  8  1  2  3  4]\n",
      " [ 3  9 12 15  4  8 12 16]]\n",
      "Now vertical stack\n",
      "[[ 2  4  6  8]\n",
      " [ 3  9 12 15]\n",
      " [ 1  2  3  4]\n",
      " [ 4  8 12 16]]\n"
     ]
    }
   ],
   "source": [
    "# concept of vertical and horizontal axis\n",
    "import numpy as np\n",
    "a=np.array([[2,4,6,8],[3,9,12,15]])\n",
    "b=np.array([[1,2,3,4],[4,8,12,16]])\n",
    "print(np.concatenate([a,b],axis=0))\n",
    "print(np.concatenate([a,b],axis=1))\n",
    "# or method 2 hstack and vstack\n",
    "print(\"Now horizontal stack method\")\n",
    "# same as axis=1 for horziontal\n",
    "print(np.hstack([a,b]))\n",
    "\n",
    "print(\"Now vertical stack\")\n",
    "print(np.vstack([a,b]))\n"
   ]
  },
  {
   "cell_type": "code",
   "execution_count": 9,
   "id": "228a0706-f77b-4a9d-a070-4e5f3f8b20bf",
   "metadata": {},
   "outputs": [
    {
     "name": "stdout",
     "output_type": "stream",
     "text": [
      "[array([1, 2, 4]), array([5, 5, 8])]\n",
      "[5 5 8]\n"
     ]
    }
   ],
   "source": [
    "# Split array\n",
    "\n",
    "a=np.array([1,2,4,5,5,8])\n",
    "print(np.array_split(a,2))\n",
    "b=np.array_split(a,2)\n",
    "# split in 2  divisions and index 0 and 1 for that\n",
    "print(b[1])\n",
    "\n"
   ]
  },
  {
   "cell_type": "code",
   "execution_count": 17,
   "id": "d392ef7c-c156-425a-b6be-32f6de1b81ea",
   "metadata": {},
   "outputs": [
    {
     "name": "stdout",
     "output_type": "stream",
     "text": [
      "[[  1   2   3  90]\n",
      " [  3   4   5 100]]\n"
     ]
    }
   ],
   "source": [
    "# append in arrays\n",
    "a=np.array([[1,2,3],[3,4,5]])\n",
    "print(np.append(a,[[90],[100]],axis=1))"
   ]
  },
  {
   "cell_type": "code",
   "execution_count": 28,
   "id": "9853810b-813c-47f0-a264-e32c7617193c",
   "metadata": {},
   "outputs": [
    {
     "name": "stdout",
     "output_type": "stream",
     "text": [
      "[ 1 50  2  3  3  4  5]\n",
      "[[ 1  2  3]\n",
      " [50 50 50]\n",
      " [ 3  4  5]]\n",
      "[[ 1 30  2  3]\n",
      " [ 3 40  4  5]]\n"
     ]
    }
   ],
   "source": [
    "# insertion in arrays\n",
    "a=np.array([[1,2,3],[3,4,5]])\n",
    "print(np.insert(a,1,50))\n",
    "# insertion using axis  in insert element place\n",
    "print(np.insert(a,1,50,axis=0))\n",
    "\n",
    "# 2d array insertion axis is necessary for 2d output\n",
    "print(np.insert(a,1,[30,40],axis=1))"
   ]
  },
  {
   "cell_type": "code",
   "execution_count": 30,
   "id": "c1b653bf-9acc-4169-82f1-1c196f6188cd",
   "metadata": {},
   "outputs": [
    {
     "name": "stdout",
     "output_type": "stream",
     "text": [
      "[ 4  7  8  9 12]\n",
      "[[ 3  4 12 22 43]\n",
      " [ 1  3  9 11 18]]\n"
     ]
    }
   ],
   "source": [
    "# sorting in array\n",
    "a=np.array([7,8,4,12,9])\n",
    "print(np.sort(a))\n",
    "# for 2d sorting\n",
    "b=np.array([[12,3,22,43,4],[9,3,11,18,1]])\n",
    "print(np.sort(b))"
   ]
  },
  {
   "cell_type": "code",
   "execution_count": null,
   "id": "0bf64e1e-d303-41e2-9caa-4829cd56e3e2",
   "metadata": {},
   "outputs": [],
   "source": []
  },
  {
   "cell_type": "code",
   "execution_count": null,
   "id": "bd1c25ba-8706-4b3f-82fb-c69522d6d58d",
   "metadata": {},
   "outputs": [],
   "source": []
  },
  {
   "cell_type": "code",
   "execution_count": null,
   "id": "24899e36-798d-4426-a608-5f3720473bb0",
   "metadata": {},
   "outputs": [],
   "source": []
  },
  {
   "cell_type": "code",
   "execution_count": null,
   "id": "0be6f2ed-dc65-436d-8618-48b167b28a3d",
   "metadata": {},
   "outputs": [],
   "source": []
  }
 ],
 "metadata": {
  "kernelspec": {
   "display_name": "Python (base)",
   "language": "python",
   "name": "base"
  },
  "language_info": {
   "codemirror_mode": {
    "name": "ipython",
    "version": 3
   },
   "file_extension": ".py",
   "mimetype": "text/x-python",
   "name": "python",
   "nbconvert_exporter": "python",
   "pygments_lexer": "ipython3",
   "version": "3.13.5"
  }
 },
 "nbformat": 4,
 "nbformat_minor": 5
}
