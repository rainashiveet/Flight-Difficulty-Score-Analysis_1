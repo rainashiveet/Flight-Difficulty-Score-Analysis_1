{
 "cells": [
  {
   "cell_type": "code",
   "execution_count": 2,
   "id": "0393a3e2-86e3-43a5-b4f3-2deda2e88747",
   "metadata": {},
   "outputs": [],
   "source": [
    "import numpy as np"
   ]
  },
  {
   "cell_type": "code",
   "execution_count": 3,
   "id": "ab5f5da2-a121-4575-8fe6-5fa381f19c12",
   "metadata": {},
   "outputs": [
    {
     "name": "stdout",
     "output_type": "stream",
     "text": [
      "[ 2 34 55]\n"
     ]
    }
   ],
   "source": [
    "b=np.array([2, 34 , 55])\n",
    "print(b)"
   ]
  },
  {
   "cell_type": "code",
   "execution_count": 5,
   "id": "7ee5e5a5-84ef-4f06-bd7d-40cdbf9ec3ec",
   "metadata": {},
   "outputs": [
    {
     "name": "stdout",
     "output_type": "stream",
     "text": [
      "[  4  68 110]\n"
     ]
    }
   ],
   "source": [
    "c=2\n",
    "d=b*c\n",
    "print(d)"
   ]
  },
  {
   "cell_type": "code",
   "execution_count": null,
   "id": "68c866e8-4591-4b3f-84c4-43ce5c9aa293",
   "metadata": {},
   "outputs": [],
   "source": []
  }
 ],
 "metadata": {
  "kernelspec": {
   "display_name": "Python [conda env:pydata]",
   "language": "python",
   "name": "conda-env-pydata-py"
  },
  "language_info": {
   "codemirror_mode": {
    "name": "ipython",
    "version": 3
   },
   "file_extension": ".py",
   "mimetype": "text/x-python",
   "name": "python",
   "nbconvert_exporter": "python",
   "pygments_lexer": "ipython3",
   "version": "3.10.18"
  }
 },
 "nbformat": 4,
 "nbformat_minor": 5
}
