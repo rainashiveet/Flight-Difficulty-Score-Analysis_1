{
 "cells": [
  {
   "cell_type": "code",
   "execution_count": 12,
   "id": "c5700e00-663e-4dd4-8176-e09cf9970540",
   "metadata": {},
   "outputs": [
    {
     "name": "stdout",
     "output_type": "stream",
     "text": [
      "     Name  Roll No  Salary\n",
      "0  Vishwa      148  100000\n",
      "1    Aman      165   20000\n",
      "2   Sujat      130  100000\n"
     ]
    }
   ],
   "source": [
    "import pandas as pd\n",
    "data={\"Name\":[\"Vishwa\",\"Aman\",\"Sujat\"],\n",
    "     \"Roll No\": [148,165,130],\n",
    "      \"Salary\":[100000,20000,100000]}\n",
    "df=pd.DataFrame(data)\n",
    "print(df)"
   ]
  },
  {
   "cell_type": "code",
   "execution_count": 139,
   "id": "cbdbfc08-f30d-4e1e-bb4e-fc592c7cd3a7",
   "metadata": {},
   "outputs": [
    {
     "name": "stdout",
     "output_type": "stream",
     "text": [
      "   item_id  restaurant_id        item_name   price\n",
      "0        1             49         Rasgulla  347.79\n",
      "1        2              7      Gulab Jamun  205.70\n",
      "2        3              8    Chole Bhature  313.79\n",
      "3        4             10  Chicken Biryani  106.31\n",
      "     item_id  restaurant_id     item_name   price\n",
      "248      249             47  Aloo Paratha  550.71\n",
      "249      250             16     Pav Bhaji  350.97\n"
     ]
    }
   ],
   "source": [
    "data=pd.read_csv(\"C:/Users/raina/OneDrive/Desktop/Online_food_delivery/online_food_delivery_dataset/menu_items.csv\")\n",
    "print(data.head(4))\n",
    "print(data.tail(2))"
   ]
  },
  {
   "cell_type": "code",
   "execution_count": 101,
   "id": "538dccf7-0f7c-4e03-941d-f409bae77024",
   "metadata": {},
   "outputs": [
    {
     "name": "stdout",
     "output_type": "stream",
     "text": [
      "item_id          0\n",
      "restaurant_id    0\n",
      "item_name        0\n",
      "price            0\n",
      "dtype: int64\n"
     ]
    }
   ],
   "source": [
    "print(data.isnull().sum())"
   ]
  },
  {
   "cell_type": "code",
   "execution_count": 140,
   "id": "9e96a2e5-fb60-4f4a-a1df-7af8dddfb77e",
   "metadata": {},
   "outputs": [
    {
     "name": "stdout",
     "output_type": "stream",
     "text": [
      "     Name  Class Gender    Salary\n",
      "0  Vishwa      6      M  100000.0\n",
      "1   Sujat      6      M  100000.0\n",
      "2  Aryahi      4      F   90000.0\n",
      "3  Viveki      4      F   88000.0\n",
      "4   Mohit      3      M       NaN\n",
      "5   Mohit      3      M   78000.0\n",
      "6   Janit      2    NaN   92000.0\n",
      "7   Janit      1      M   91000.0\n"
     ]
    }
   ],
   "source": [
    "import pandas as pd\n",
    "df=pd.read_excel(\"C:/Users/raina/OneDrive/Desktop/HTML/pr1.xlsx\")\n",
    "print(df)"
   ]
  },
  {
   "cell_type": "code",
   "execution_count": 141,
   "id": "af16dad2-e9b7-4121-9c28-2c1e08f628fb",
   "metadata": {},
   "outputs": [
    {
     "name": "stdout",
     "output_type": "stream",
     "text": [
      "Name      0\n",
      "Class     0\n",
      "Gender    1\n",
      "Salary    1\n",
      "dtype: int64\n"
     ]
    }
   ],
   "source": [
    "print(df.isnull().sum())"
   ]
  },
  {
   "cell_type": "code",
   "execution_count": 142,
   "id": "e1f14692-defe-4c4e-b011-a178e9115f01",
   "metadata": {},
   "outputs": [
    {
     "name": "stdout",
     "output_type": "stream",
     "text": [
      "2\n"
     ]
    }
   ],
   "source": [
    "print(df.duplicated([\"Name\"]).sum())\n",
    "\n",
    "# check for any duplicate value in a row"
   ]
  },
  {
   "cell_type": "code",
   "execution_count": 143,
   "id": "9c80a9c9-8b11-4c34-8a57-4142e36ab79f",
   "metadata": {},
   "outputs": [
    {
     "name": "stdout",
     "output_type": "stream",
     "text": [
      "     Name  Class Gender         Salary\n",
      "0  Vishwa      6      M  100000.000000\n",
      "1   Sujat      6      M  100000.000000\n",
      "2  Aryahi      4      F   90000.000000\n",
      "3  Viveki      4      F   88000.000000\n",
      "4   Mohit      3      M   91285.714286\n",
      "5   Mohit      3      M   78000.000000\n",
      "6   Janit      2    NaN   92000.000000\n",
      "7   Janit      1      M   91000.000000\n"
     ]
    }
   ],
   "source": [
    "import numpy as np\n",
    "# print(df.replace(np.nan,\"hello\")) for fully replacing of nan to hello\n",
    "# for particular replacement default value type for null we can do\n",
    "# print(df[\"Salary\"].mean())\n",
    "df[\"Salary\"]= df[\"Salary\"].replace(np.nan,df[\"Salary\"].mean())\n",
    "# we can replace 30 k value with mean for no change in data overall after insertion mmean is coming\n",
    "# something 91285\n",
    "print(df)\n",
    "#\n",
    "\n"
   ]
  },
  {
   "cell_type": "code",
   "execution_count": 144,
   "id": "fca00248-32a7-47e5-b820-2fcbce51cad4",
   "metadata": {},
   "outputs": [
    {
     "name": "stdout",
     "output_type": "stream",
     "text": [
      "     Name  Class Gender         Salary\n",
      "0  Vishwa      6      M  100000.000000\n",
      "1   Sujat      6      M  100000.000000\n",
      "2  Aryahi      4      F   90000.000000\n",
      "3  Viveki      4      F   88000.000000\n",
      "4   Mohit      3      M   91285.714286\n",
      "5   Mohit      3      M   78000.000000\n",
      "6   Janit      2      M   92000.000000\n",
      "7   Janit      1      M   91000.000000\n"
     ]
    }
   ],
   "source": [
    "df[\"Gender\"] = df[\"Gender\"].bfill()\n",
    "print(df)"
   ]
  },
  {
   "cell_type": "code",
   "execution_count": 145,
   "id": "ca7409ac-6d44-4fa2-8877-8bec3ab36f2e",
   "metadata": {},
   "outputs": [
    {
     "name": "stdout",
     "output_type": "stream",
     "text": [
      "     Name  Class Gender         Salary GetsBonus\n",
      "0  Vishwa      6      M  100000.000000        No\n",
      "1   Sujat      6      M  100000.000000        No\n",
      "2  Aryahi      4      F   90000.000000        No\n",
      "3  Viveki      4      F   88000.000000       Yes\n",
      "4   Mohit      3      M   91285.714286        No\n",
      "5   Mohit      3      M   78000.000000       Yes\n",
      "6   Janit      2      M   92000.000000        No\n",
      "7   Janit      1      M   91000.000000        No\n"
     ]
    }
   ],
   "source": [
    "# Column transformation\n",
    "df.loc[(df[\"Salary\"]<90000),\"GetsBonus\"]=\"Yes\"\n",
    "df.loc[(df[\"Salary\"]>=90000),\"GetsBonus\"]=\"No\"\n",
    "print(df)"
   ]
  },
  {
   "cell_type": "code",
   "execution_count": 146,
   "id": "1b9343c6-5af6-4c61-9d00-9781d7f1f79a",
   "metadata": {},
   "outputs": [
    {
     "name": "stdout",
     "output_type": "stream",
     "text": [
      "     Name  Class Gender         Salary GetsBonus Last Name\n",
      "0  Vishwa      6      M  100000.000000        No    Jamwal\n",
      "1   Sujat      6      M  100000.000000        No        Ul\n",
      "2  Aryahi      4      F   90000.000000        No    Sharma\n",
      "3  Viveki      4      F   88000.000000       Yes     Gupta\n",
      "4   Mohit      3      M   91285.714286        No      Bhan\n",
      "5   Mohit      3      M   78000.000000       Yes       Kar\n",
      "6   Janit      2      M   92000.000000        No       Jha\n",
      "7   Janit      1      M   91000.000000        No   Pandita\n"
     ]
    }
   ],
   "source": [
    "df[\"Last Name\"]=[\"Jamwal\",\"Ul\",\"Sharma\",\"Gupta\",\"Bhan\",\"Kar\",\"Jha\",\"Pandita\"]\n",
    "print(df)"
   ]
  },
  {
   "cell_type": "code",
   "execution_count": 147,
   "id": "cd3a692d-568d-451c-9882-319829bff86e",
   "metadata": {},
   "outputs": [
    {
     "name": "stdout",
     "output_type": "stream",
     "text": [
      "     Name Last Name  Class Gender         Salary GetsBonus\n",
      "0  Vishwa    Jamwal      6      M  100000.000000        No\n",
      "1   Sujat        Ul      6      M  100000.000000        No\n",
      "2  Aryahi    Sharma      4      F   90000.000000        No\n",
      "3  Viveki     Gupta      4      F   88000.000000       Yes\n",
      "4   Mohit      Bhan      3      M   91285.714286        No\n",
      "5   Mohit       Kar      3      M   78000.000000       Yes\n",
      "6   Janit       Jha      2      M   92000.000000        No\n",
      "7   Janit   Pandita      1      M   91000.000000        No\n"
     ]
    }
   ],
   "source": [
    "# firsly store value of last name\n",
    "last_name=df[\"Last Name\"]\n",
    "# now drop Last Name\n",
    "df=df.drop(columns=[\"Last Name\"])\n",
    "# now insert after first name locn by storing loc of first name first\n",
    "fname_pos=df.columns.get_loc(\"Name\")\n",
    "df.insert(loc=fname_pos+1,column=\"Last Name\",value=last_name)\n",
    "print(df)\n",
    "\n",
    "# last_pos=df.columns.get_loc(\"Name\")\n",
    "# df[\"Last Name\"] = last_names\n",
    "# df.insert(loc=last_pos+1,column=\"Last Name\",value=last_names)\n"
   ]
  },
  {
   "cell_type": "code",
   "execution_count": 152,
   "id": "aa55e898-c0f6-4e7e-b099-621d80aed27f",
   "metadata": {},
   "outputs": [
    {
     "name": "stdout",
     "output_type": "stream",
     "text": [
      "    Months\n",
      "0  January\n",
      "1  Febuary\n",
      "2    March\n",
      "3    April\n",
      "    Months Short Months\n",
      "0  January          Jan\n",
      "1  Febuary          Feb\n",
      "2    March          Mar\n",
      "3    April          Apr\n"
     ]
    }
   ],
   "source": [
    "data={\"Months\":[\"January\",\"Febuary\",\"March\",\"April\"]}\n",
    "a=pd.DataFrame(data)\n",
    "print(a)\n",
    "a[\"Short Months\"]=list(map(lambda x:x[0:3],a[\"Months\"]))\n",
    "print(a)"
   ]
  },
  {
   "cell_type": "code",
   "execution_count": 160,
   "id": "d7cadbac-46b4-4a85-9f13-6cf816448d66",
   "metadata": {},
   "outputs": [
    {
     "name": "stdout",
     "output_type": "stream",
     "text": [
      "                     Salary\n",
      "Gender Class               \n",
      "F      4       89000.000000\n",
      "M      1       91000.000000\n",
      "       2       92000.000000\n",
      "       3       84642.857143\n",
      "       6      100000.000000\n"
     ]
    }
   ],
   "source": [
    "gp=df.groupby([\"Gender\",\"Class\"]).agg({\"Salary\":\"mean\"})\n",
    "print(gp)"
   ]
  },
  {
   "cell_type": "code",
   "execution_count": null,
   "id": "cb80d48f-b019-45d0-ba45-49b6870181c6",
   "metadata": {},
   "outputs": [],
   "source": []
  },
  {
   "cell_type": "code",
   "execution_count": null,
   "id": "388c67b1-c33f-432e-a92d-d65b62a1b4e3",
   "metadata": {},
   "outputs": [],
   "source": []
  }
 ],
 "metadata": {
  "kernelspec": {
   "display_name": "Python (base)",
   "language": "python",
   "name": "base"
  },
  "language_info": {
   "codemirror_mode": {
    "name": "ipython",
    "version": 3
   },
   "file_extension": ".py",
   "mimetype": "text/x-python",
   "name": "python",
   "nbconvert_exporter": "python",
   "pygments_lexer": "ipython3",
   "version": "3.13.5"
  }
 },
 "nbformat": 4,
 "nbformat_minor": 5
}
